{
 "cells": [
  {
   "cell_type": "markdown",
   "metadata": {},
   "source": [
    "# CarND-Path-Planning-Project\n",
    "Self-Driving Car Engineer Nanodegree Program\n",
    "   \n",
    "### Simulator.\n",
    "You can download the Term3 Simulator which contains the Path Planning Project from the [releases tab (https://github.com/udacity/self-driving-car-sim/releases).\n",
    "\n",
    "### Goals\n",
    "In this project your goal is to safely navigate around a virtual highway with other traffic that is driving +-10 MPH of the 50 MPH speed limit. You will be provided the car's localization and sensor fusion data, there is also a sparse map list of waypoints around the highway. The car should try to go as close as possible to the 50 MPH speed limit, which means passing slower traffic when possible, note that other cars will try to change lanes too. The car should avoid hitting other cars at all cost as well as driving inside of the marked road lanes at all times, unless going from one lane to another. The car should be able to make one complete loop around the 6946m highway. Since the car is trying to go 50 MPH, it should take a little over 5 minutes to complete 1 loop. Also the car should not experience total acceleration over 10 m/s^2 and jerk that is greater than 10 m/s^3.\n",
    "\n",
    "#### The map of the highway is in data/highway_map.txt\n",
    "Each waypoint in the list contains  [x,y,s,dx,dy] values. x and y are the waypoint's map coordinate position, the s value is the distance along the road to get to that waypoint in meters, the dx and dy values define the unit normal vector pointing outward of the highway loop.\n",
    "\n",
    "The highway's waypoints loop around so the frenet s value, distance along the road, goes from 0 to 6945.554.\n",
    "\n",
    "Here is the data provided from the Simulator to the C++ Program\n",
    "\n",
    "#### Main car's localization Data (No Noise)\n",
    "\n",
    "[\"x\"] The car's x position in map coordinates\n",
    "\n",
    "[\"y\"] The car's y position in map coordinates\n",
    "\n",
    "[\"s\"] The car's s position in frenet coordinates\n",
    "\n",
    "[\"d\"] The car's d position in frenet coordinates\n",
    "\n",
    "[\"yaw\"] The car's yaw angle in the map\n",
    "\n",
    "[\"speed\"] The car's speed in MPH\n",
    "\n",
    "#### Previous path data given to the Planner\n",
    "\n",
    "//Note: Return the previous list but with processed points removed, can be a nice tool to show how far along\n",
    "the path has processed since last time. \n",
    "\n",
    "[\"previous_path_x\"] The previous list of x points previously given to the simulator\n",
    "\n",
    "[\"previous_path_y\"] The previous list of y points previously given to the simulator\n",
    "\n",
    "#### Previous path's end s and d values \n",
    "\n",
    "[\"end_path_s\"] The previous list's last point's frenet s value\n",
    "\n",
    "[\"end_path_d\"] The previous list's last point's frenet d value\n",
    "\n",
    "#### Sensor Fusion Data, a list of all other car's attributes on the same side of the road. (No Noise)\n",
    "\n",
    "[\"sensor_fusion\"] A 2d vector of cars and then that car's [car's unique ID, car's x position in map coordinates, car's y position in map coordinates, car's x velocity in m/s, car's y velocity in m/s, car's s position in frenet coordinates, car's d position in frenet coordinates. \n",
    "\n",
    "## Details\n",
    "\n",
    "1. The car uses a perfect controller and will visit every (x,y) point it recieves in the list every .02 seconds. The units for the (x,y) points are in meters and the spacing of the points determines the speed of the car. The vector going from a point to the next point in the list dictates the angle of the car. Acceleration both in the tangential and normal directions is measured along with the jerk, the rate of change of total Acceleration. The (x,y) point paths that the planner recieves should not have a total acceleration that goes over 10 m/s^2, also the jerk should not go over 50 m/s^3. (NOTE: As this is BETA, these requirements might change. Also currently jerk is over a .02 second interval, it would probably be better to average total acceleration over 1 second and measure jerk from that.\n",
    "\n",
    "2. There will be some latency between the simulator running and the path planner returning a path, with optimized code usually its not very long maybe just 1-3 time steps. During this delay the simulator will continue using points that it was last given, because of this its a good idea to store the last points you have used so you can have a smooth transition. previous_path_x, and previous_path_y can be helpful for this transition since they show the last points given to the simulator controller with the processed points already removed. You would either return a path that extends this previous path or make sure to create a new path that has a smooth transition with this last path.\n",
    "\n",
    "## Tips\n",
    "\n",
    "A really helpful resource for doing this project and creating smooth trajectories was using http://kluge.in-chemnitz.de/opensource/spline/, the spline function is in a single hearder file is really easy to use.\n",
    "\n",
    "---\n",
    "\n",
    "## Dependencies\n",
    "\n",
    "* cmake >= 3.5\n",
    " * All OSes: [click here for installation instructions](https://cmake.org/install/)\n",
    "* make >= 4.1\n",
    "  * Linux: make is installed by default on most Linux distros\n",
    "  * Mac: [install Xcode command line tools to get make](https://developer.apple.com/xcode/features/)\n",
    "  * Windows: [Click here for installation instructions](http://gnuwin32.sourceforge.net/packages/make.htm)\n",
    "* gcc/g++ >= 5.4\n",
    "  * Linux: gcc / g++ is installed by default on most Linux distros\n",
    "  * Mac: same deal as make - [install Xcode command line tools]((https://developer.apple.com/xcode/features/)\n",
    "  * Windows: recommend using [MinGW](http://www.mingw.org/)\n",
    "* [uWebSockets](https://github.com/uWebSockets/uWebSockets)\n",
    "  * Run either `install-mac.sh` or `install-ubuntu.sh`.\n",
    "  * If you install from source, checkout to commit `e94b6e1`, i.e.\n",
    "    ```\n",
    "    git clone https://github.com/uWebSockets/uWebSockets \n",
    "    cd uWebSockets\n",
    "    git checkout e94b6e1\n",
    "    ```\n",
    "\n",
    "## Editor Settings\n",
    "\n",
    "We've purposefully kept editor configuration files out of this repo in order to\n",
    "keep it as simple and environment agnostic as possible. However, we recommend\n",
    "using the following settings:\n",
    "\n",
    "* indent using spaces\n",
    "* set tab width to 2 spaces (keeps the matrices in source code aligned)\n",
    "\n",
    "## Code Style\n",
    "\n",
    "Please (do your best to) stick to [Google's C++ style guide](https://google.github.io/styleguide/cppguide.html).\n",
    "\n",
    "## Project Instructions and Rubric\n",
    "\n",
    "Note: regardless of the changes you make, your project must be buildable using\n",
    "cmake and make!\n",
    "\n",
    "\n",
    "## Call for IDE Profiles Pull Requests\n",
    "\n",
    "Help your fellow students!\n",
    "\n",
    "We decided to create Makefiles with cmake to keep this project as platform\n",
    "agnostic as possible. Similarly, we omitted IDE profiles in order to ensure\n",
    "that students don't feel pressured to use one IDE or another.\n",
    "\n",
    "However! I'd love to help people get up and running with their IDEs of choice.\n",
    "If you've created a profile for an IDE that you think other students would\n",
    "appreciate, we'd love to have you add the requisite profile files and\n",
    "instructions to ide_profiles/. For example if you wanted to add a VS Code\n",
    "profile, you'd add:\n",
    "\n",
    "* /ide_profiles/vscode/.vscode\n",
    "* /ide_profiles/vscode/README.md\n",
    "\n",
    "The README should explain what the profile does, how to take advantage of it,\n",
    "and how to install it.\n",
    "\n",
    "Frankly, I've never been involved in a project with multiple IDE profiles\n",
    "before. I believe the best way to handle this would be to keep them out of the\n",
    "repo root to avoid clutter. My expectation is that most profiles will include\n",
    "instructions to copy files to a new location to get picked up by the IDE, but\n",
    "that's just a guess.\n",
    "\n",
    "One last note here: regardless of the IDE used, every submitted project must\n",
    "still be compilable with cmake and make./"
   ]
  },
  {
   "cell_type": "markdown",
   "metadata": {},
   "source": [
    "## Basic Build Instructions\n",
    "\n",
    "1. Clone this repo.\n",
    "2. Make a build directory: `mkdir build && cd build`\n",
    "3. Compile: `cmake .. && make`\n",
    "4. Run it: `./path_planning`."
   ]
  },
  {
   "cell_type": "markdown",
   "metadata": {},
   "source": [
    "#### First Run"
   ]
  },
  {
   "cell_type": "code",
   "execution_count": 7,
   "metadata": {
    "collapsed": false
   },
   "outputs": [
    {
     "name": "stdout",
     "output_type": "stream",
     "text": [
      "Password:\n"
     ]
    }
   ],
   "source": [
    "! source install-mac.sh && cd build && cmake .. && make && ./path_planning"
   ]
  },
  {
   "cell_type": "markdown",
   "metadata": {},
   "source": [
    "#### Consecutive Runs"
   ]
  },
  {
   "cell_type": "code",
   "execution_count": 22,
   "metadata": {
    "collapsed": false,
    "scrolled": false
   },
   "outputs": [
    {
     "name": "stdout",
     "output_type": "stream",
     "text": [
      "-- The C compiler identification is AppleClang 9.0.0.9000039\n",
      "-- The CXX compiler identification is AppleClang 9.0.0.9000039\n",
      "-- Check for working C compiler: /Applications/Xcode.app/Contents/Developer/Toolchains/XcodeDefault.xctoolchain/usr/bin/cc\n",
      "-- Check for working C compiler: /Applications/Xcode.app/Contents/Developer/Toolchains/XcodeDefault.xctoolchain/usr/bin/cc -- works\n",
      "-- Detecting C compiler ABI info\n",
      "-- Detecting C compiler ABI info - done\n",
      "-- Detecting C compile features\n",
      "-- Detecting C compile features - done\n",
      "-- Check for working CXX compiler: /Applications/Xcode.app/Contents/Developer/Toolchains/XcodeDefault.xctoolchain/usr/bin/c++\n",
      "-- Check for working CXX compiler: /Applications/Xcode.app/Contents/Developer/Toolchains/XcodeDefault.xctoolchain/usr/bin/c++ -- works\n",
      "-- Detecting CXX compiler ABI info\n",
      "-- Detecting CXX compiler ABI info - done\n",
      "-- Detecting CXX compile features\n",
      "-- Detecting CXX compile features - done\n",
      "-- Configuring done\n",
      "-- Generating done\n",
      "-- Build files have been written to: /Users/deanmwebb/Google Drive/Development/self_driving_car_nd/path_planning/build\n",
      "\u001b[35m\u001b[1mScanning dependencies of target path_planning\u001b[0m\n",
      "[ 50%] \u001b[32mBuilding CXX object CMakeFiles/path_planning.dir/src/main.cpp.o\u001b[0m\n",
      "[100%] \u001b[32m\u001b[1mLinking CXX executable path_planning\u001b[0m\n",
      "ld: warning: directory not found for option '-L/usr/local/Cellar/libuv/1.11.0/lib'\n",
      "[100%] Built target path_planning\n",
      "Listening to port 4567\n",
      "Connected!!!\n",
      "Connected!!!\n",
      "Connected!!!\n",
      "Connected!!!\n",
      "^C\n"
     ]
    }
   ],
   "source": [
    "! mkdir build && cd build && cmake .. && make && ./path_planning"
   ]
  },
  {
   "cell_type": "code",
   "execution_count": null,
   "metadata": {
    "collapsed": false,
    "scrolled": false
   },
   "outputs": [],
   "source": [
    "! cd build && cmake .. && make && ./path_planning"
   ]
  },
  {
   "cell_type": "code",
   "execution_count": null,
   "metadata": {
    "collapsed": true
   },
   "outputs": [],
   "source": []
  }
 ],
 "metadata": {
  "anaconda-cloud": {},
  "kernelspec": {
   "display_name": "Python [conda env:sdc_dev]",
   "language": "python",
   "name": "conda-env-sdc_dev-py"
  },
  "language_info": {
   "codemirror_mode": {
    "name": "ipython",
    "version": 3
   },
   "file_extension": ".py",
   "mimetype": "text/x-python",
   "name": "python",
   "nbconvert_exporter": "python",
   "pygments_lexer": "ipython3",
   "version": "3.5.2"
  }
 },
 "nbformat": 4,
 "nbformat_minor": 0
}
